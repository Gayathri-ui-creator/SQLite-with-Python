{
 "cells": [
  {
   "cell_type": "markdown",
   "id": "3a79de37-56dd-4613-bf7e-20fb48d959af",
   "metadata": {},
   "source": [
    "#### Import Required Libraries"
   ]
  },
  {
   "cell_type": "code",
   "execution_count": 1,
   "id": "83f0cfda-6956-49f7-95ec-357f9e7349df",
   "metadata": {},
   "outputs": [],
   "source": [
    "import sqlite3\n",
    "import pandas as pd\n",
    "import matplotlib.pyplot as plt"
   ]
  },
  {
   "cell_type": "markdown",
   "id": "ce00cfd8-a13c-41ec-98e1-1bb913076d1e",
   "metadata": {},
   "source": [
    "#### Reset & Connect to the SQLite database"
   ]
  },
  {
   "cell_type": "code",
   "execution_count": 5,
   "id": "e58a635a-fb1b-4614-85a6-73bb4fa324f8",
   "metadata": {},
   "outputs": [],
   "source": [
    "db_path = \"sales_data.db\"\n",
    "conn = sqlite3.connect(db_path)\n",
    "cursor = conn.cursor()"
   ]
  },
  {
   "cell_type": "markdown",
   "id": "3f57468f-9d54-4e8e-a3ac-64e9764e8f26",
   "metadata": {},
   "source": [
    "#### Create a New Sales Table"
   ]
  },
  {
   "cell_type": "code",
   "execution_count": 3,
   "id": "1a93ed1d-0672-4be8-95f2-e87435a537de",
   "metadata": {},
   "outputs": [],
   "source": [
    "cursor.execute(\"DROP TABLE IF EXISTS sales\")\n",
    "cursor.execute(\"\"\"\n",
    "CREATE TABLE sales (\n",
    "   id INTEGER PRIMARY KEY AUTOINCREMENT,\n",
    "   customer_name TEXT,\n",
    "   product TEXT,\n",
    "   category TEXT,\n",
    "   quantity INTEGER,\n",
    "   price REAL,\n",
    "   total_sales REAL,\n",
    "   country TEXT,\n",
    "   purchase_date TEXT\n",
    ")\n",
    "\"\"\")\n",
    "conn.commit()"
   ]
  },
  {
   "cell_type": "markdown",
   "id": "6e33304a-48da-4335-9a9e-37740438896c",
   "metadata": {},
   "source": [
    "#### Insert Sample Data"
   ]
  },
  {
   "cell_type": "code",
   "execution_count": 4,
   "id": "fd3b466f-bb79-43cf-a03e-49d044b25c68",
   "metadata": {},
   "outputs": [],
   "source": [
    "sales_data = [\n",
    "    (\"Rina Hartono\", \"Chicken - Bones\", \"Meat\", 15, 2.5, 37.5, \"Indonesia\", \"2025-06-10\"),\n",
    "    (\"Luis Figueira\", \"Puff Pastry - Slab\", \"Bakery\", 10, 3.2, 32.0, \"Portugal\", \"2025-06-09\"),\n",
    "    (\"Eva Janssen\", \"Lamb - Loin Chops\", \"Meat\", 8, 12.0, 96.0, \"Netherlands\", \"2025-06-08\"),\n",
    "    (\"Tiana Rakoto\", \"Dried Figs\", \"Fruits & Nuts\", 5, 4.5, 22.5, \"Madagascar\", \"2025-06-07\"),\n",
    "    (\"Ivan Petrov\", \"Cheese Cloth No 60\", \"Kitchen Supplies\", 20, 1.0, 20.0, \"Russia\", \"2025-06-06\"),\n",
    "    (\"Carlos Quispe\", \"Flour - Fast / Rapid\", \"Baking Ingredients\", 25, 1.2, 30.0, \"Peru\", \"2025-06-05\"),\n",
    "    (\"Ana Duarte\", \"Cinnamon Buns Sticky\", \"Bakery\", 12, 2.8, 33.6, \"Portugal\", \"2025-06-04\"),\n",
    "    (\"Nadia Saleh\", \"Brandy Apricot\", \"Beverages / Preserves\", 6, 5.5, 33.0, \"Yemen\", \"2025-06-03\"),\n",
    "    (\"John Carter\", \"Water - Green Tea Refresher\", \"Beverages\", 30, 1.5, 45.0, \"United States\", \"2025-06-02\")\n",
    "]\n",
    "cursor.executemany(\"INSERT INTO sales (customer_name, product, category, quantity, price,total_sales, country, purchase_date) VALUES (?, ?, ?, ?, ?, ?, ?, ?)\", sales_data)\n",
    "conn.commit()"
   ]
  },
  {
   "cell_type": "markdown",
   "id": "cba10fa2-fdca-41c8-ac70-b8073bd14d87",
   "metadata": {},
   "source": [
    "#### Query the New Table and Verify Data"
   ]
  },
  {
   "cell_type": "code",
   "execution_count": 6,
   "id": "33cf5bcd-fe8d-4cdd-b82c-77d49e67581d",
   "metadata": {},
   "outputs": [
    {
     "name": "stdout",
     "output_type": "stream",
     "text": [
      "   id  customer_name             product          category  quantity  price  \\\n",
      "0   1   Rina Hartono     Chicken - Bones              Meat        15    2.5   \n",
      "1   2  Luis Figueira  Puff Pastry - Slab            Bakery        10    3.2   \n",
      "2   3    Eva Janssen   Lamb - Loin Chops              Meat         8   12.0   \n",
      "3   4   Tiana Rakoto          Dried Figs     Fruits & Nuts         5    4.5   \n",
      "4   5    Ivan Petrov  Cheese Cloth No 60  Kitchen Supplies        20    1.0   \n",
      "\n",
      "   total_sales      country purchase_date  \n",
      "0         37.5    Indonesia    2025-06-10  \n",
      "1         32.0     Portugal    2025-06-09  \n",
      "2         96.0  Netherlands    2025-06-08  \n",
      "3         22.5   Madagascar    2025-06-07  \n",
      "4         20.0       Russia    2025-06-06  \n"
     ]
    }
   ],
   "source": [
    "import pandas as pd\n",
    "\n",
    "# Fetch all data from new table\n",
    "query = \"SELECT * FROM sales\"\n",
    "df = pd.read_sql(query,conn)\n",
    "\n",
    "# Display the first few rows of the dataset\n",
    "print(df.head())"
   ]
  },
  {
   "cell_type": "markdown",
   "id": "7fcab49d-ec01-412f-a729-dda54add6e84",
   "metadata": {},
   "source": [
    "#### Perform Basis Analysis(Filter high_value sales)"
   ]
  },
  {
   "cell_type": "code",
   "execution_count": 8,
   "id": "9fc86ef8-6e06-4a5a-b6ef-b5b960632c3e",
   "metadata": {},
   "outputs": [
    {
     "name": "stdout",
     "output_type": "stream",
     "text": [
      "   id  customer_name                      product               category  \\\n",
      "0   1   Rina Hartono              Chicken - Bones                   Meat   \n",
      "1   2  Luis Figueira           Puff Pastry - Slab                 Bakery   \n",
      "2   3    Eva Janssen            Lamb - Loin Chops                   Meat   \n",
      "3   7     Ana Duarte         Cinnamon Buns Sticky                 Bakery   \n",
      "4   8    Nadia Saleh               Brandy Apricot  Beverages / Preserves   \n",
      "5   9    John Carter  Water - Green Tea Refresher              Beverages   \n",
      "\n",
      "   quantity  price  total_sales        country purchase_date  \n",
      "0        15    2.5         37.5      Indonesia    2025-06-10  \n",
      "1        10    3.2         32.0       Portugal    2025-06-09  \n",
      "2         8   12.0         96.0    Netherlands    2025-06-08  \n",
      "3        12    2.8         33.6       Portugal    2025-06-04  \n",
      "4         6    5.5         33.0          Yemen    2025-06-03  \n",
      "5        30    1.5         45.0  United States    2025-06-02  \n"
     ]
    }
   ],
   "source": [
    "query = \"SELECT * FROM sales WHERE total_sales > 30\"\n",
    "df_filtered = pd.read_sql(query,conn)\n",
    "\n",
    "print(df_filtered)"
   ]
  },
  {
   "cell_type": "markdown",
   "id": "de4477d0-ce47-44dd-9eab-de9e7d7aa834",
   "metadata": {},
   "source": [
    "#### Run SQL query to get total quantity and revenue per product"
   ]
  },
  {
   "cell_type": "code",
   "execution_count": 9,
   "id": "39d39280-07c9-4697-9f82-9a5402b0c33e",
   "metadata": {},
   "outputs": [],
   "source": [
    "query = \"\"\"\n",
    "SELECT product, SUM(quantity) AS total_qty, SUM(quantity * price) AS revenue\n",
    "FROM sales\n",
    "GROUP BY product\n",
    "\"\"\"\n",
    "df = pd.read_sql_query(query, conn)"
   ]
  },
  {
   "cell_type": "markdown",
   "id": "14607140-1016-418c-b193-a12eaae385af",
   "metadata": {},
   "source": [
    "#### Display the results using print"
   ]
  },
  {
   "cell_type": "code",
   "execution_count": 10,
   "id": "9c278ac4-e082-4392-a38d-01f187897fcc",
   "metadata": {},
   "outputs": [
    {
     "name": "stdout",
     "output_type": "stream",
     "text": [
      "                       product  total_qty  revenue\n",
      "0               Brandy Apricot          6     33.0\n",
      "1           Cheese Cloth No 60         20     20.0\n",
      "2              Chicken - Bones         15     37.5\n",
      "3         Cinnamon Buns Sticky         12     33.6\n",
      "4                   Dried Figs          5     22.5\n",
      "5         Flour - Fast / Rapid         25     30.0\n",
      "6            Lamb - Loin Chops          8     96.0\n",
      "7           Puff Pastry - Slab         10     32.0\n",
      "8  Water - Green Tea Refresher         30     45.0\n"
     ]
    }
   ],
   "source": [
    "print(df)"
   ]
  },
  {
   "cell_type": "markdown",
   "id": "b3afda6b-fa12-4419-865e-102a5a469e62",
   "metadata": {},
   "source": [
    "#### Plot bar chart"
   ]
  },
  {
   "cell_type": "code",
   "execution_count": 13,
   "id": "a61a35f0-cd9f-4847-a3f5-60e68ce975ab",
   "metadata": {},
   "outputs": [
    {
     "data": {
      "text/plain": [
       "<Figure size 800x500 with 0 Axes>"
      ]
     },
     "metadata": {},
     "output_type": "display_data"
    },
    {
     "data": {
      "image/png": "[encoded data removed]",
      "text/plain": [
       "<Figure size 640x480 with 1 Axes>"
      ]
     },
     "metadata": {},
     "output_type": "display_data"
    }
   ],
   "source": [
    "plt.figure(figsize=(8,5))\n",
    "df.plot(kind='bar', x='product', y='revenue', legend=False, color='skyblue')\n",
    "plt.title(\"Revenue by Product\")\n",
    "plt.ylabel(\"Revenue\")\n",
    "plt.xticks(rotation=45)\n",
    "plt.tight_layout()\n",
    "plt.grid(axis='y')\n",
    "plt.savefig(\"sales_summary_chart.png\")\n",
    "plt.show()"
   ]
  },
  {
   "cell_type": "markdown",
   "id": "78d89fac-4766-4fd1-9da0-2f9b7e727a32",
   "metadata": {},
   "source": [
    "#### Save the Chart"
   ]
  },
  {
   "cell_type": "code",
   "execution_count": 32,
   "id": "24439bda-c17e-4971-b245-affda36a272e",
   "metadata": {},
   "outputs": [
    {
     "data": {
      "text/plain": [
       "<Figure size 640x480 with 0 Axes>"
      ]
     },
     "metadata": {},
     "output_type": "display_data"
    }
   ],
   "source": [
    "plt.savefig(\"sales_bar_chart.png\")"
   ]
  },
  {
   "cell_type": "code",
   "execution_count": null,
   "id": "14cb023d-232d-427d-9043-51d07d0889f9",
   "metadata": {},
   "outputs": [],
   "source": [
    "#### Show c"
   ]
  },
  {
   "cell_type": "markdown",
   "id": "6ba3c93b-3801-4638-a602-60f2d240c398",
   "metadata": {},
   "source": [
    "#### Close the connection"
   ]
  },
  {
   "cell_type": "code",
   "execution_count": 15,
   "id": "39a93d7c-8c5e-4ae8-b23e-cea7c1b3c984",
   "metadata": {},
   "outputs": [],
   "source": [
    "conn.close()"
   ]
  },
  {
   "cell_type": "markdown",
   "id": "f6363cf9-4580-456a-a6d1-8cd472fd6c48",
   "metadata": {},
   "source": [
    "#### Save the chart"
   ]
  },
  {
   "cell_type": "code",
   "execution_count": 27,
   "id": "0f41457d-300a-42e3-814d-2ce28908d2e2",
   "metadata": {},
   "outputs": [
    {
     "data": {
      "text/plain": [
       "<Figure size 640x480 with 0 Axes>"
      ]
     },
     "metadata": {},
     "output_type": "display_data"
    }
   ],
   "source": [
    "plt.savefig(\"sales_bar_chart.png\")"
   ]
  },
  {
   "cell_type": "code",
   "execution_count": 23,
   "id": "2adea783-d043-4272-bf39-3d55a72aaa66",
   "metadata": {},
   "outputs": [],
   "source": [
    "plt.show()"
   ]
  },
  {
   "cell_type": "markdown",
   "id": "d68c2ba8-c420-41e5-a13c-fe576a2fdafe",
   "metadata": {},
   "source": [
    "#### Load Data from SQLite into Pandas Dataframe"
   ]
  },
  {
   "cell_type": "code",
   "execution_count": 29,
   "id": "8ee8bb23-e455-4677-b0dc-22746acacb0d",
   "metadata": {},
   "outputs": [
    {
     "name": "stdout",
     "output_type": "stream",
     "text": [
      "   id  customer_name             product          category  quantity  price  \\\n",
      "0   1   Rina Hartono     Chicken - Bones              Meat        15    2.5   \n",
      "1   2  Luis Figueira  Puff Pastry - Slab            Bakery        10    3.2   \n",
      "2   3    Eva Janssen   Lamb - Loin Chops              Meat         8   12.0   \n",
      "3   4   Tiana Rakoto          Dried Figs     Fruits & Nuts         5    4.5   \n",
      "4   5    Ivan Petrov  Cheese Cloth No 60  Kitchen Supplies        20    1.0   \n",
      "\n",
      "   total_sales      country purchase_date  \n",
      "0         37.5    Indonesia    2025-06-10  \n",
      "1         32.0     Portugal    2025-06-09  \n",
      "2         96.0  Netherlands    2025-06-08  \n",
      "3         22.5   Madagascar    2025-06-07  \n",
      "4         20.0       Russia    2025-06-06  \n"
     ]
    }
   ],
   "source": [
    "import pandas as pd\n",
    "import sqlite3\n",
    "\n",
    "# Connect to the SQLite database\n",
    "conn = sqlite3.connect(\"sales_data.db\")\n",
    "\n",
    "# Read all data from the sales table into a pandas Dataframe\n",
    "query =  \"SELECT * FROM sales\"\n",
    "df = pd.read_sql_query(query, conn)\n",
    "\n",
    "# Display the first few rows\n",
    "print(df.head())\n",
    "\n",
    "#close the connection\n",
    "conn.close()\n"
   ]
  },
  {
   "cell_type": "code",
   "execution_count": null,
   "id": "0c3c76dc-6cfe-4cc7-b151-c027704b140b",
   "metadata": {},
   "outputs": [],
   "source": []
  }
 ],
 "metadata": {
  "kernelspec": {
   "display_name": "Python 3 (ipykernel)",
   "language": "python",
   "name": "python3"
  },
  "language_info": {
   "codemirror_mode": {
    "name": "ipython",
    "version": 3
   },
   "file_extension": ".py",
   "mimetype": "text/x-python",
   "name": "python",
   "nbconvert_exporter": "python",
   "pygments_lexer": "ipython3",
   "version": "3.12.7"
  }
 },
 "nbformat": 4,
 "nbformat_minor": 5
}
